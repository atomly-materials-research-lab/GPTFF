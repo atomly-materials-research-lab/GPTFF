{
 "cells": [
  {
   "cell_type": "code",
   "execution_count": 94,
   "metadata": {},
   "outputs": [],
   "source": [
    "import torch\n",
    "from pymatgen.core.structure import Structure\n",
    "from pymatgen.io.ase import AseAtomsAdaptor\n",
    "\n",
    "from gptff.model.mpredict import ASECalculator"
   ]
  },
  {
   "cell_type": "markdown",
   "metadata": {},
   "source": [
    "# Load pre-trained gptff model"
   ]
  },
  {
   "cell_type": "code",
   "execution_count": 95,
   "metadata": {},
   "outputs": [],
   "source": [
    "model_weights = \"../pretrained/gptff_v1.pth\"\n",
    "\n",
    "device = torch.device(\"cuda\" if torch.cuda.is_available() else \"cpu\")\n",
    "calculator = ASECalculator(model_weights, device)"
   ]
  },
  {
   "cell_type": "markdown",
   "metadata": {},
   "source": [
    "# Basic usage"
   ]
  },
  {
   "cell_type": "code",
   "execution_count": 96,
   "metadata": {},
   "outputs": [
    {
     "name": "stdout",
     "output_type": "stream",
     "text": [
      "Composition is: Na4 Cl4\n"
     ]
    }
   ],
   "source": [
    "structure = Structure.from_file(\"data/NaCl.cif\")\n",
    "structure.remove_oxidation_states()\n",
    "print(f\"Composition is: {structure.composition}\")\n",
    "\n",
    "adp = AseAtomsAdaptor()\n",
    "atoms = adp.get_atoms(structure)"
   ]
  },
  {
   "cell_type": "markdown",
   "metadata": {},
   "source": [
    "## Static calculation"
   ]
  },
  {
   "cell_type": "code",
   "execution_count": 84,
   "metadata": {},
   "outputs": [
    {
     "name": "stdout",
     "output_type": "stream",
     "text": [
      "Energy is: -27.4335 eV\n",
      "\n",
      "Forces on each atom are: \n",
      " [[ 4.06289473e-08 -4.88944352e-09 -5.00585884e-08]\n",
      " [ 2.38651410e-09  4.83960321e-08 -9.07311914e-09]\n",
      " [-3.01297405e-08  1.45519152e-08 -2.26318662e-08]\n",
      " [ 6.64294930e-09 -1.36897143e-08 -6.25732355e-09]\n",
      " [ 3.07336450e-08 -4.65661287e-08  5.21540642e-08]\n",
      " [-4.65661287e-09 -3.72529030e-09  6.51925802e-09]\n",
      " [-3.72529030e-08  2.32830644e-08  1.76951289e-08]\n",
      " [-4.36557457e-10 -1.72003638e-08  1.21071935e-08]]\n",
      "\n",
      "Stresses are: \n",
      " [-1.2516518e+00 -1.2516513e+00 -1.2516515e+00  6.3789116e-09\n",
      " -5.5669673e-09 -2.3364457e-08]\n"
     ]
    },
    {
     "name": "stderr",
     "output_type": "stream",
     "text": [
      "C:\\Users\\tengl\\AppData\\Local\\Temp\\ipykernel_16380\\1908980648.py:2: FutureWarning: Please use atoms.calc = calc\n",
      "  _atoms.set_calculator(calculator)\n"
     ]
    }
   ],
   "source": [
    "_atoms = atoms.copy()\n",
    "_atoms.set_calculator(calculator)\n",
    "\n",
    "energy = _atoms.get_potential_energy() # unit (eV)\n",
    "forces = _atoms.get_forces() # unit (eV/Å)\n",
    "stress = _atoms.get_stress() # unit (GPa)\n",
    "\n",
    "print(f\"Energy is: {energy[0]:.4f} eV\")\n",
    "print(f\"\\nForces on each atom are: \\n {forces}\")\n",
    "print(f\"\\nStresses are: \\n {stress}\")"
   ]
  },
  {
   "cell_type": "markdown",
   "metadata": {},
   "source": [
    "## Structure relaxation"
   ]
  },
  {
   "cell_type": "markdown",
   "metadata": {},
   "source": [
    "### w/ lattice changing"
   ]
  },
  {
   "cell_type": "code",
   "execution_count": 85,
   "metadata": {},
   "outputs": [
    {
     "name": "stdout",
     "output_type": "stream",
     "text": [
      "      Step     Time          Energy          fmax\n",
      "FIRE:    0 16:22:44      -27.433544      218.414863\n",
      "FIRE:    1 16:22:44      -26.694424      659.602471\n",
      "FIRE:    2 16:22:44      -27.433546      218.416090\n",
      "FIRE:    3 16:22:44      -26.694424      659.602818\n"
     ]
    },
    {
     "name": "stderr",
     "output_type": "stream",
     "text": [
      "C:\\Users\\tengl\\AppData\\Local\\Temp\\ipykernel_16380\\1736387840.py:5: FutureWarning: Please use atoms.calc = calc\n",
      "  _atoms.set_calculator(calculator)\n",
      "C:\\Users\\tengl\\AppData\\Local\\Temp\\ipykernel_16380\\1736387840.py:7: FutureWarning: Import ExpCellFilter from ase.filters\n",
      "  constraints = ExpCellFilter(_atoms)\n"
     ]
    },
    {
     "name": "stdout",
     "output_type": "stream",
     "text": [
      "FIRE:    4 16:22:44      -27.468334       85.031574\n",
      "FIRE:    5 16:22:44      -27.472519       51.619413\n",
      "FIRE:    6 16:22:44      -27.475029        0.276708\n",
      "FIRE:    7 16:22:44      -27.475027        0.251448\n",
      "FIRE:    8 16:22:44      -27.475029        0.200798\n",
      "FIRE:    9 16:22:44      -27.475025        0.133225\n",
      "FIRE:   10 16:22:44      -27.475027        0.053372\n",
      "FIRE:   11 16:22:44      -27.475027        0.031517\n",
      "FIRE:   12 16:22:45      -27.475029        0.031506\n",
      "FIRE:   13 16:22:45      -27.475029        0.030380\n",
      "FIRE:   14 16:22:45      -27.475027        0.027583\n",
      "FIRE:   15 16:22:45      -27.475029        0.024669\n",
      "FIRE:   16 16:22:45      -27.475029        0.021775\n",
      "FIRE:   17 16:22:45      -27.475029        0.017441\n",
      "FIRE:   18 16:22:45      -27.475029        0.012624\n",
      "FIRE:   19 16:22:45      -27.475029        0.007861\n",
      "\n",
      "Original lattice length is: \n",
      "(5.58812644, 5.58812644, 5.58812644)\n",
      "\n",
      "Relaxed lattice length is: \n",
      "(5.7056821956261725, 5.7056824731326605, 5.705682598861223)\n"
     ]
    }
   ],
   "source": [
    "from ase.optimize.fire import FIRE\n",
    "from ase.constraints import ExpCellFilter\n",
    "\n",
    "_atoms = atoms.copy()\n",
    "_atoms.set_calculator(calculator)\n",
    "\n",
    "constraints = ExpCellFilter(_atoms) \n",
    "optimizer = FIRE(constraints)\n",
    "optimizer.run(fmax=0.01, steps=100)\n",
    "\n",
    "print(f\"\\nOriginal lattice length is: \\n{adp.get_structure(atoms).lattice.abc}\\n\")\n",
    "print(f\"Relaxed lattice length is: \\n{adp.get_structure(_atoms).lattice.abc}\")"
   ]
  },
  {
   "cell_type": "markdown",
   "metadata": {},
   "source": [
    "### w/o lattice changing"
   ]
  },
  {
   "cell_type": "code",
   "execution_count": 93,
   "metadata": {},
   "outputs": [
    {
     "name": "stdout",
     "output_type": "stream",
     "text": [
      "      Step     Time          Energy          fmax\n",
      "BFGS:    0 16:25:53      -27.433542        0.000000\n",
      "\n",
      "Original lattice length is: \n",
      "(5.58812644, 5.58812644, 5.58812644)\n",
      "\n",
      "Relaxed lattice length is: \n",
      "(5.58812644, 5.58812644, 5.58812644)\n"
     ]
    },
    {
     "name": "stderr",
     "output_type": "stream",
     "text": [
      "C:\\Users\\tengl\\AppData\\Local\\Temp\\ipykernel_16380\\2202944646.py:4: FutureWarning: Please use atoms.calc = calc\n",
      "  _atoms.set_calculator(calculator)\n"
     ]
    }
   ],
   "source": [
    "from ase.optimize.bfgs import BFGS\n",
    "\n",
    "_atoms = atoms.copy()\n",
    "_atoms.set_calculator(calculator)\n",
    "\n",
    "optimizer = BFGS(_atoms)\n",
    "optimizer.run(fmax=0.01, steps=100)\n",
    "\n",
    "print(f\"\\nOriginal lattice length is: \\n{adp.get_structure(atoms).lattice.abc}\\n\")\n",
    "print(f\"Relaxed lattice length is: \\n{adp.get_structure(_atoms).lattice.abc}\")"
   ]
  },
  {
   "cell_type": "markdown",
   "metadata": {},
   "source": [
    "## Molecular dynamics"
   ]
  },
  {
   "cell_type": "markdown",
   "metadata": {},
   "source": [
    "**Note**: There are many avaliable ensembles implemented in ASE, see https://wiki.fysik.dtu.dk/ase/ase/md.html#module-ase.md for details."
   ]
  },
  {
   "cell_type": "code",
   "execution_count": 97,
   "metadata": {},
   "outputs": [],
   "source": [
    "from ase import units\n",
    "from ase.md.velocitydistribution import MaxwellBoltzmannDistribution, Stationary\n",
    "\n",
    "timestep = 2 # unit: fs\n",
    "starting_temperature = 100 # unit: K\n",
    "taut = 100 * timestep  # unit: fs\n",
    "taup = 1000 * timestep # unit: fs\n",
    "\n",
    "MaxwellBoltzmannDistribution(\n",
    "    atoms, temperature_K=starting_temperature, force_temp=True\n",
    ")\n",
    "Stationary(atoms)"
   ]
  },
  {
   "cell_type": "markdown",
   "metadata": {},
   "source": [
    "### NVT ensemble"
   ]
  },
  {
   "cell_type": "code",
   "execution_count": 98,
   "metadata": {},
   "outputs": [
    {
     "name": "stderr",
     "output_type": "stream",
     "text": [
      "C:\\Users\\tengl\\AppData\\Local\\Temp\\ipykernel_16380\\402209000.py:4: FutureWarning: Please use atoms.calc = calc\n",
      "  _atoms.set_calculator(calculator)\n"
     ]
    },
    {
     "data": {
      "text/plain": [
       "True"
      ]
     },
     "execution_count": 98,
     "metadata": {},
     "output_type": "execute_result"
    }
   ],
   "source": [
    "from ase.md.nptberendsen import NVTBerendsen\n",
    "\n",
    "_atoms = atoms.copy()\n",
    "_atoms.set_calculator(calculator)\n",
    "\n",
    "temperature = 300\n",
    "dyn = NVTBerendsen(\n",
    "    atoms=_atoms,\n",
    "    timestep=timestep * units.fs,\n",
    "    temperature_K=temperature,\n",
    "    taut=taut * units.fs,\n",
    "    trajectory='data/trajectory_nvt.trj',\n",
    "    logfile='data/log_nvt.log',\n",
    "    loginterval=1,\n",
    "    append_trajectory=False,\n",
    ")\n",
    "dyn.run(steps=100)"
   ]
  },
  {
   "cell_type": "markdown",
   "metadata": {},
   "source": [
    "### NPT ensemble"
   ]
  },
  {
   "cell_type": "code",
   "execution_count": 99,
   "metadata": {},
   "outputs": [
    {
     "name": "stderr",
     "output_type": "stream",
     "text": [
      "C:\\Users\\tengl\\AppData\\Local\\Temp\\ipykernel_16380\\4054009454.py:4: FutureWarning: Please use atoms.calc = calc\n",
      "  _atoms.set_calculator(calculator)\n"
     ]
    },
    {
     "data": {
      "text/plain": [
       "True"
      ]
     },
     "execution_count": 99,
     "metadata": {},
     "output_type": "execute_result"
    }
   ],
   "source": [
    "from ase.md.nptberendsen import Inhomogeneous_NPTBerendsen\n",
    "\n",
    "_atoms = atoms.copy()\n",
    "_atoms.set_calculator(calculator)\n",
    "\n",
    "temperature = 300\n",
    "pressure = 1.01325e-4 # unit: GPa (1 atm)\n",
    "\n",
    "# NaCl shows a bulk_modulus of 24 GPa\n",
    "bulk_modulus_au = 24 / 160.2176 # GPa to eV/A^3\n",
    "compressibility_au = 1 / bulk_modulus_au\n",
    "\n",
    "dyn = Inhomogeneous_NPTBerendsen(\n",
    "    atoms=_atoms,\n",
    "    timestep=timestep * units.fs,\n",
    "    temperature_K=temperature,\n",
    "    pressure_au=pressure * units.GPa,\n",
    "    taut=taut * units.fs,\n",
    "    taup=taup * units.fs,\n",
    "    compressibility_au=compressibility_au,\n",
    "    trajectory='data/trajectory_npt.trj',\n",
    "    logfile='data/log_npt.log',\n",
    "    loginterval=1,\n",
    ")\n",
    "dyn.run(steps=100)"
   ]
  }
 ],
 "metadata": {
  "kernelspec": {
   "display_name": "gptff",
   "language": "python",
   "name": "python3"
  },
  "language_info": {
   "codemirror_mode": {
    "name": "ipython",
    "version": 3
   },
   "file_extension": ".py",
   "mimetype": "text/x-python",
   "name": "python",
   "nbconvert_exporter": "python",
   "pygments_lexer": "ipython3",
   "version": "3.11.11"
  }
 },
 "nbformat": 4,
 "nbformat_minor": 2
}
